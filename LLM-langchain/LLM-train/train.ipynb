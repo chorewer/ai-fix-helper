{
 "cells": [
  {
   "cell_type": "code",
   "execution_count": null,
   "metadata": {},
   "outputs": [],
   "source": [
    "import torch \n",
    "import transformers\n",
    "from dataclasses import dataclass, field \n",
    "from typing import Dict, Optional, Sequence \n",
    "from trainer_seq2seq import Seq2SeqTrainer\n",
    "from transformers import (\n",
    "    AutoConfig,\n",
    "    AutoModel,\n",
    "    AutoTokenizer,\n",
    "    DataCollatorForSeq2Seq,\n",
    "    HfArgumentParser,\n",
    "    Seq2SeqTrainingArguments,\n",
    "    set_seed,\n",
    ")\n",
    "\n",
    "model_name_or_path = r\"/root/autodl-tmp/chatglm2-6b-int4\"\n",
    "cache_dir = r\"/root/autodl-tmp/chatglm2-6b-int4\""
   ]
  },
  {
   "cell_type": "code",
   "execution_count": null,
   "metadata": {},
   "outputs": [],
   "source": [
    "import json\n",
    "\n",
    "data_train = []\n",
    "with open(\"/root/autodl-tmp/fix-helper/LLM-langchain/Generate-from-openai/generate_file2.json\",'r',encoding=\"utf-8\") as file:\n",
    "    data_train = json.loads(file.read())"
   ]
  },
  {
   "cell_type": "code",
   "execution_count": null,
   "metadata": {},
   "outputs": [],
   "source": [
    "@dataclass\n",
    "class DataCollatorForSupervisedDataset(object):\n",
    "    \"\"\"Collate examples for supervised fine-tuning.\"\"\"\n",
    "    tokenizer: transformers.PreTrainedTokenizer\n",
    "\n",
    "    def __call__(self):\n",
    "        "
   ]
  },
  {
   "cell_type": "code",
   "execution_count": null,
   "metadata": {},
   "outputs": [],
   "source": [
    "def train(\n",
    "    model_name_or_path,\n",
    "    cache_dir,\n",
    "    model_max_length,\n",
    "    output_dir,\n",
    "    learning_rate = 5e-5,\n",
    "    warmup_ratio=0.8,\n",
    "    num_train_epochs = 3,\n",
    "):\n",
    "    model = transformers.AutoModelForCausalLM.from_pretrained(\n",
    "        model_name_or_path,\n",
    "        cache_dir=cache_dir,\n",
    "    )\n",
    "    tokenizer = transformers.AutoTokenizer.from_pretrained(\n",
    "        model_name_or_path,\n",
    "        cache_dir=cache_dir,\n",
    "        model_max_length=model_max_length,\n",
    "        padding_side=\"right\",\n",
    "        use_fast=False,\n",
    "    )\n",
    "    training_args = transformers.TrainingArguments(\n",
    "        output_dir=output_dir,\n",
    "        overwrite_output_dir = True,\n",
    "        evaluation_strategy = \"steps\",\n",
    "        learning_rate = learning_rate,\n",
    "        warmup_ratio = warmup_ratio,\n",
    "        per_device_train_batch_size=2,\n",
    "        per_device_eval_batch_size=4,\n",
    "        num_train_epochs=num_train_epochs,\n",
    "        save_steps=False,\n",
    "    )\n",
    "    trainer = Seq2SeqTrainer(\n",
    "        model=model,\n",
    "        args=training_args,\n",
    "        train_dataset=train_dataset if do_train else None,\n",
    "        tokenizer=tokenizer,\n",
    "        data_collator=data_collator,\n",
    "        compute_metrics=compute_metrics if predict_with_generate else None,\n",
    "        save_changed=model_args.pre_seq_len is not None\n",
    "    )"
   ]
  }
 ],
 "metadata": {
  "kernelspec": {
   "display_name": "base",
   "language": "python",
   "name": "python3"
  },
  "language_info": {
   "codemirror_mode": {
    "name": "ipython",
    "version": 3
   },
   "file_extension": ".py",
   "mimetype": "text/x-python",
   "name": "python",
   "nbconvert_exporter": "python",
   "pygments_lexer": "ipython3",
   "version": "3.10.8"
  }
 },
 "nbformat": 4,
 "nbformat_minor": 2
}
